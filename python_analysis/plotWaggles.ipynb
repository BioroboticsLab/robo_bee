{
 "cells": [
  {
   "cell_type": "code",
   "execution_count": 61,
   "metadata": {},
   "outputs": [],
   "source": [
    "import pandas as pd\n",
    "import seaborn as sns\n",
    "import numpy as np\n",
    "import cv2\n",
    "\n",
    "import matplotlib.pyplot as plt\n",
    "%matplotlib inline"
   ]
  },
  {
   "cell_type": "markdown",
   "metadata": {},
   "source": [
    "# 1) Natural Dance"
   ]
  },
  {
   "cell_type": "markdown",
   "metadata": {},
   "source": [
    "## Load data and video"
   ]
  },
  {
   "cell_type": "code",
   "execution_count": 62,
   "metadata": {},
   "outputs": [],
   "source": [
    "# load video and track\n",
    "video_path = \"data_robobee/tmp_without_videos/natural_dances/2008_08_21-1115_1/video/21_08_2008-1115-SINGLE.raw.avi\"\n",
    "dance_track_path = \"data_robobee/tmp_without_videos/natural_dances/2008_08_21-1115_1/trajectories/dancer.raw\"\n",
    "follower_track_path = \"data_robobee/tmp_without_videos/natural_dances/2008_08_21-1115_1/trajectories/followers.raw\"\n",
    "waggle_indices = \"data_robobee/tmp_without_videos/natural_dances/2008_08_21-1115_1/video/I.csv\"\n",
    "\n",
    "dancer_track = pd.read_csv(dance_track_path, skiprows=[0], header=None, delim_whitespace=True)\n",
    "follower_track = pd.read_csv(follower_track_path, skiprows=[0], header=None, delim_whitespace=True)\n",
    "waggles = pd.read_csv(waggle_indices, header=None)\n",
    "cap = cv2.VideoCapture(video_path)"
   ]
  },
  {
   "cell_type": "code",
   "execution_count": 63,
   "metadata": {},
   "outputs": [
    {
     "name": "stdout",
     "output_type": "stream",
     "text": [
      "6689.0\n"
     ]
    },
    {
     "data": {
      "text/plain": [
       "(<VideoCapture 0x7f85c6080f30>, None)"
      ]
     },
     "execution_count": 63,
     "metadata": {},
     "output_type": "execute_result"
    }
   ],
   "source": [
    "cap, print(cap.get(cv2.CAP_PROP_FRAME_COUNT)) # total frames in video"
   ]
  },
  {
   "cell_type": "code",
   "execution_count": 64,
   "metadata": {},
   "outputs": [
    {
     "data": {
      "text/html": [
       "<div>\n",
       "<style scoped>\n",
       "    .dataframe tbody tr th:only-of-type {\n",
       "        vertical-align: middle;\n",
       "    }\n",
       "\n",
       "    .dataframe tbody tr th {\n",
       "        vertical-align: top;\n",
       "    }\n",
       "\n",
       "    .dataframe thead th {\n",
       "        text-align: right;\n",
       "    }\n",
       "</style>\n",
       "<table border=\"1\" class=\"dataframe\">\n",
       "  <thead>\n",
       "    <tr style=\"text-align: right;\">\n",
       "      <th></th>\n",
       "      <th>0</th>\n",
       "      <th>1</th>\n",
       "      <th>2</th>\n",
       "      <th>3</th>\n",
       "      <th>4</th>\n",
       "      <th>5</th>\n",
       "    </tr>\n",
       "  </thead>\n",
       "  <tbody>\n",
       "    <tr>\n",
       "      <th>0</th>\n",
       "      <td>1</td>\n",
       "      <td>269.0</td>\n",
       "      <td>218.0</td>\n",
       "      <td>44.0</td>\n",
       "      <td>109.0</td>\n",
       "      <td>-6.25</td>\n",
       "    </tr>\n",
       "    <tr>\n",
       "      <th>1</th>\n",
       "      <td>2</td>\n",
       "      <td>269.0</td>\n",
       "      <td>218.0</td>\n",
       "      <td>44.0</td>\n",
       "      <td>109.0</td>\n",
       "      <td>-6.25</td>\n",
       "    </tr>\n",
       "    <tr>\n",
       "      <th>2</th>\n",
       "      <td>3</td>\n",
       "      <td>269.0</td>\n",
       "      <td>217.5</td>\n",
       "      <td>44.0</td>\n",
       "      <td>109.0</td>\n",
       "      <td>-6.25</td>\n",
       "    </tr>\n",
       "    <tr>\n",
       "      <th>3</th>\n",
       "      <td>4</td>\n",
       "      <td>269.0</td>\n",
       "      <td>217.5</td>\n",
       "      <td>44.0</td>\n",
       "      <td>109.0</td>\n",
       "      <td>-6.25</td>\n",
       "    </tr>\n",
       "    <tr>\n",
       "      <th>4</th>\n",
       "      <td>5</td>\n",
       "      <td>269.0</td>\n",
       "      <td>217.7</td>\n",
       "      <td>44.0</td>\n",
       "      <td>109.0</td>\n",
       "      <td>-6.23</td>\n",
       "    </tr>\n",
       "  </tbody>\n",
       "</table>\n",
       "</div>"
      ],
      "text/plain": [
       "   0      1      2     3      4     5\n",
       "0  1  269.0  218.0  44.0  109.0 -6.25\n",
       "1  2  269.0  218.0  44.0  109.0 -6.25\n",
       "2  3  269.0  217.5  44.0  109.0 -6.25\n",
       "3  4  269.0  217.5  44.0  109.0 -6.25\n",
       "4  5  269.0  217.7  44.0  109.0 -6.23"
      ]
     },
     "execution_count": 64,
     "metadata": {},
     "output_type": "execute_result"
    }
   ],
   "source": [
    "dancer_track.head()"
   ]
  },
  {
   "cell_type": "code",
   "execution_count": 65,
   "metadata": {},
   "outputs": [
    {
     "data": {
      "text/html": [
       "<div>\n",
       "<style scoped>\n",
       "    .dataframe tbody tr th:only-of-type {\n",
       "        vertical-align: middle;\n",
       "    }\n",
       "\n",
       "    .dataframe tbody tr th {\n",
       "        vertical-align: top;\n",
       "    }\n",
       "\n",
       "    .dataframe thead th {\n",
       "        text-align: right;\n",
       "    }\n",
       "</style>\n",
       "<table border=\"1\" class=\"dataframe\">\n",
       "  <thead>\n",
       "    <tr style=\"text-align: right;\">\n",
       "      <th></th>\n",
       "      <th>0</th>\n",
       "      <th>1</th>\n",
       "      <th>2</th>\n",
       "      <th>3</th>\n",
       "      <th>4</th>\n",
       "      <th>5</th>\n",
       "    </tr>\n",
       "  </thead>\n",
       "  <tbody>\n",
       "    <tr>\n",
       "      <th>0</th>\n",
       "      <td>2145</td>\n",
       "      <td>156.0</td>\n",
       "      <td>261.0</td>\n",
       "      <td>37.7</td>\n",
       "      <td>103.5</td>\n",
       "      <td>-1.33</td>\n",
       "    </tr>\n",
       "    <tr>\n",
       "      <th>1</th>\n",
       "      <td>2146</td>\n",
       "      <td>NaN</td>\n",
       "      <td>NaN</td>\n",
       "      <td>NaN</td>\n",
       "      <td>NaN</td>\n",
       "      <td>NaN</td>\n",
       "    </tr>\n",
       "    <tr>\n",
       "      <th>2</th>\n",
       "      <td>2147</td>\n",
       "      <td>NaN</td>\n",
       "      <td>NaN</td>\n",
       "      <td>NaN</td>\n",
       "      <td>NaN</td>\n",
       "      <td>NaN</td>\n",
       "    </tr>\n",
       "    <tr>\n",
       "      <th>3</th>\n",
       "      <td>2148</td>\n",
       "      <td>NaN</td>\n",
       "      <td>NaN</td>\n",
       "      <td>NaN</td>\n",
       "      <td>NaN</td>\n",
       "      <td>NaN</td>\n",
       "    </tr>\n",
       "    <tr>\n",
       "      <th>4</th>\n",
       "      <td>2149</td>\n",
       "      <td>NaN</td>\n",
       "      <td>NaN</td>\n",
       "      <td>NaN</td>\n",
       "      <td>NaN</td>\n",
       "      <td>NaN</td>\n",
       "    </tr>\n",
       "  </tbody>\n",
       "</table>\n",
       "</div>"
      ],
      "text/plain": [
       "      0      1      2     3      4     5\n",
       "0  2145  156.0  261.0  37.7  103.5 -1.33\n",
       "1  2146    NaN    NaN   NaN    NaN   NaN\n",
       "2  2147    NaN    NaN   NaN    NaN   NaN\n",
       "3  2148    NaN    NaN   NaN    NaN   NaN\n",
       "4  2149    NaN    NaN   NaN    NaN   NaN"
      ]
     },
     "execution_count": 65,
     "metadata": {},
     "output_type": "execute_result"
    }
   ],
   "source": [
    "follower_track.head()"
   ]
  },
  {
   "cell_type": "code",
   "execution_count": 66,
   "metadata": {},
   "outputs": [
    {
     "data": {
      "text/html": [
       "<div>\n",
       "<style scoped>\n",
       "    .dataframe tbody tr th:only-of-type {\n",
       "        vertical-align: middle;\n",
       "    }\n",
       "\n",
       "    .dataframe tbody tr th {\n",
       "        vertical-align: top;\n",
       "    }\n",
       "\n",
       "    .dataframe thead th {\n",
       "        text-align: right;\n",
       "    }\n",
       "</style>\n",
       "<table border=\"1\" class=\"dataframe\">\n",
       "  <thead>\n",
       "    <tr style=\"text-align: right;\">\n",
       "      <th></th>\n",
       "      <th>0</th>\n",
       "      <th>1</th>\n",
       "    </tr>\n",
       "  </thead>\n",
       "  <tbody>\n",
       "    <tr>\n",
       "      <th>0</th>\n",
       "      <td>23850</td>\n",
       "      <td>24420</td>\n",
       "    </tr>\n",
       "    <tr>\n",
       "      <th>1</th>\n",
       "      <td>25960</td>\n",
       "      <td>26560</td>\n",
       "    </tr>\n",
       "    <tr>\n",
       "      <th>2</th>\n",
       "      <td>28581</td>\n",
       "      <td>29131</td>\n",
       "    </tr>\n",
       "    <tr>\n",
       "      <th>3</th>\n",
       "      <td>31000</td>\n",
       "      <td>31560</td>\n",
       "    </tr>\n",
       "    <tr>\n",
       "      <th>4</th>\n",
       "      <td>33310</td>\n",
       "      <td>33910</td>\n",
       "    </tr>\n",
       "  </tbody>\n",
       "</table>\n",
       "</div>"
      ],
      "text/plain": [
       "       0      1\n",
       "0  23850  24420\n",
       "1  25960  26560\n",
       "2  28581  29131\n",
       "3  31000  31560\n",
       "4  33310  33910"
      ]
     },
     "execution_count": 66,
     "metadata": {},
     "output_type": "execute_result"
    }
   ],
   "source": [
    "waggles.head()"
   ]
  },
  {
   "cell_type": "code",
   "execution_count": 67,
   "metadata": {},
   "outputs": [],
   "source": [
    "waggle_ranges = waggles.values"
   ]
  },
  {
   "cell_type": "code",
   "execution_count": 68,
   "metadata": {},
   "outputs": [
    {
     "data": {
      "text/plain": [
       "array([[2385., 2442.],\n",
       "       [2596., 2656.],\n",
       "       [2858., 2913.],\n",
       "       [3100., 3156.],\n",
       "       [3331., 3391.],\n",
       "       [3647., 3675.],\n",
       "       [3947., 3966.],\n",
       "       [4260., 4271.],\n",
       "       [4479., 4516.],\n",
       "       [4871., 4901.],\n",
       "       [5117., 5165.],\n",
       "       [5383., 5441.],\n",
       "       [5750., 5794.]])"
      ]
     },
     "execution_count": 68,
     "metadata": {},
     "output_type": "execute_result"
    }
   ],
   "source": [
    "waggle_ranges = np.rint(waggle_ranges/10)\n",
    "waggle_ranges"
   ]
  },
  {
   "cell_type": "code",
   "execution_count": 69,
   "metadata": {},
   "outputs": [],
   "source": [
    "waggle_list = [i for array in waggle_ranges for i in range(int(array[0]),int(array[1]+1))]"
   ]
  },
  {
   "cell_type": "markdown",
   "metadata": {},
   "source": [
    "### Plot"
   ]
  },
  {
   "cell_type": "code",
   "execution_count": 70,
   "metadata": {},
   "outputs": [],
   "source": [
    "cap = cv2.VideoCapture(video_path)\n",
    "font = cv2.FONT_HERSHEY_SIMPLEX\n",
    "\n",
    "if (cap.isOpened()== False): \n",
    "    print(\"Error opening video stream or file\")\n",
    "    \n",
    "current_frame = 0\n",
    "while(cap.isOpened()):\n",
    "    ret, frame = cap.read()\n",
    "    \n",
    "    f = int(dancer_track.iloc[current_frame][0])\n",
    "    x = int(dancer_track.iloc[current_frame][1])\n",
    "    y = int(dancer_track.iloc[current_frame][2])\n",
    "    \n",
    "    cv2.putText(frame,'Frame='+str(current_frame),(400,100), font, 1,(255,255,255),2,cv2.LINE_AA)\n",
    "    \n",
    "    \n",
    "    if f in waggle_list:\n",
    "        cv2.circle(frame, (x,y), 10, (255,255,0)) #yellow\n",
    "        cv2.putText(frame,'Waggle',(400,150), font, 1,(255,255,0),2,cv2.LINE_AA)\n",
    "    else:\n",
    "        cv2.circle(frame, (x,y), 10, (255,0,0)) #blue\n",
    "        cv2.putText(frame,'Normal',(400,150), font, 1,(255,0,0),2,cv2.LINE_AA)\n",
    "        \n",
    "    \n",
    "    cv2.imshow('Frame', frame)\n",
    "\n",
    "    if cv2.waitKey(1) & 0xFF == ord('q'):\n",
    "        break\n",
    "    current_frame += 1\n",
    "\n",
    "cap.release()\n",
    "cv2.destroyAllWindows()"
   ]
  },
  {
   "cell_type": "markdown",
   "metadata": {},
   "source": [
    "### Schlussfolgerung: in I stehen die mit 10 multiplizierten Indizes. "
   ]
  },
  {
   "cell_type": "markdown",
   "metadata": {},
   "source": [
    "# 2) Robotic Dance"
   ]
  },
  {
   "cell_type": "markdown",
   "metadata": {},
   "source": [
    "Ich kann nicht die upgesampleted Daten plotten, da diese nicht Pixel, sondern cm haben. "
   ]
  },
  {
   "cell_type": "code",
   "execution_count": 72,
   "metadata": {},
   "outputs": [],
   "source": [
    "# load video and track\n",
    "video_path = \"data_robobee/tmp_without_videos/robotic_dances/2011-08-31_13-38-25/video/original.avi\"\n",
    "dance_track_path = \"data_robobee/tmp_without_videos/robotic_dances/2011-08-31_13-38-25/trajectories/robot.raw\"\n",
    "follower_track_path = \"data_robobee/tmp_without_videos/robotic_dances/2011-08-31_13-38-25/trajectories/followers.raw\"\n",
    "waggle_indices = \"data_robobee/tmp_without_videos/robotic_dances/2011-08-31_13-38-25/video/I.csv\"\n",
    "\n",
    "dancer_track = pd.read_csv(dance_track_path, skiprows=[0], header=None, delim_whitespace=True)\n",
    "follower_track = pd.read_csv(follower_track_path, skiprows=[0], header=None, delim_whitespace=True)\n",
    "waggles = pd.read_csv(waggle_indices, header=None)\n",
    "cap = cv2.VideoCapture(video_path)"
   ]
  },
  {
   "cell_type": "code",
   "execution_count": 73,
   "metadata": {},
   "outputs": [
    {
     "data": {
      "text/html": [
       "<div>\n",
       "<style scoped>\n",
       "    .dataframe tbody tr th:only-of-type {\n",
       "        vertical-align: middle;\n",
       "    }\n",
       "\n",
       "    .dataframe tbody tr th {\n",
       "        vertical-align: top;\n",
       "    }\n",
       "\n",
       "    .dataframe thead th {\n",
       "        text-align: right;\n",
       "    }\n",
       "</style>\n",
       "<table border=\"1\" class=\"dataframe\">\n",
       "  <thead>\n",
       "    <tr style=\"text-align: right;\">\n",
       "      <th></th>\n",
       "      <th>0</th>\n",
       "      <th>1</th>\n",
       "      <th>2</th>\n",
       "      <th>3</th>\n",
       "      <th>4</th>\n",
       "      <th>5</th>\n",
       "    </tr>\n",
       "  </thead>\n",
       "  <tbody>\n",
       "    <tr>\n",
       "      <th>0</th>\n",
       "      <td>23212</td>\n",
       "      <td>NaN</td>\n",
       "      <td>NaN</td>\n",
       "      <td>NaN</td>\n",
       "      <td>NaN</td>\n",
       "      <td>NaN</td>\n",
       "    </tr>\n",
       "    <tr>\n",
       "      <th>1</th>\n",
       "      <td>23213</td>\n",
       "      <td>NaN</td>\n",
       "      <td>NaN</td>\n",
       "      <td>NaN</td>\n",
       "      <td>NaN</td>\n",
       "      <td>NaN</td>\n",
       "    </tr>\n",
       "    <tr>\n",
       "      <th>2</th>\n",
       "      <td>23214</td>\n",
       "      <td>NaN</td>\n",
       "      <td>NaN</td>\n",
       "      <td>NaN</td>\n",
       "      <td>NaN</td>\n",
       "      <td>NaN</td>\n",
       "    </tr>\n",
       "    <tr>\n",
       "      <th>3</th>\n",
       "      <td>23215</td>\n",
       "      <td>NaN</td>\n",
       "      <td>NaN</td>\n",
       "      <td>NaN</td>\n",
       "      <td>NaN</td>\n",
       "      <td>NaN</td>\n",
       "    </tr>\n",
       "    <tr>\n",
       "      <th>4</th>\n",
       "      <td>23216</td>\n",
       "      <td>NaN</td>\n",
       "      <td>NaN</td>\n",
       "      <td>NaN</td>\n",
       "      <td>NaN</td>\n",
       "      <td>NaN</td>\n",
       "    </tr>\n",
       "  </tbody>\n",
       "</table>\n",
       "</div>"
      ],
      "text/plain": [
       "       0   1   2   3   4   5\n",
       "0  23212 NaN NaN NaN NaN NaN\n",
       "1  23213 NaN NaN NaN NaN NaN\n",
       "2  23214 NaN NaN NaN NaN NaN\n",
       "3  23215 NaN NaN NaN NaN NaN\n",
       "4  23216 NaN NaN NaN NaN NaN"
      ]
     },
     "execution_count": 73,
     "metadata": {},
     "output_type": "execute_result"
    }
   ],
   "source": [
    "dancer_track.head()"
   ]
  },
  {
   "cell_type": "code",
   "execution_count": 74,
   "metadata": {},
   "outputs": [],
   "source": [
    "# datenfehler in zeile 915: daten fehlen!"
   ]
  },
  {
   "cell_type": "code",
   "execution_count": 75,
   "metadata": {},
   "outputs": [
    {
     "name": "stdout",
     "output_type": "stream",
     "text": [
      "27755.0\n"
     ]
    },
    {
     "data": {
      "text/plain": [
       "(<VideoCapture 0x7f85c0150af0>, None)"
      ]
     },
     "execution_count": 75,
     "metadata": {},
     "output_type": "execute_result"
    }
   ],
   "source": [
    "cap, print(cap.get(cv2.CAP_PROP_FRAME_COUNT)) # total frames in video"
   ]
  },
  {
   "cell_type": "code",
   "execution_count": 76,
   "metadata": {},
   "outputs": [],
   "source": [
    "# remove the rows with NaN\n",
    "dancer_track = dancer_track.dropna(subset=[1])"
   ]
  },
  {
   "cell_type": "code",
   "execution_count": 77,
   "metadata": {},
   "outputs": [],
   "source": [
    "# let row indices start by 0 again\n",
    "dancer_track = dancer_track.reset_index(drop=True)"
   ]
  },
  {
   "cell_type": "code",
   "execution_count": 78,
   "metadata": {},
   "outputs": [
    {
     "data": {
      "text/html": [
       "<div>\n",
       "<style scoped>\n",
       "    .dataframe tbody tr th:only-of-type {\n",
       "        vertical-align: middle;\n",
       "    }\n",
       "\n",
       "    .dataframe tbody tr th {\n",
       "        vertical-align: top;\n",
       "    }\n",
       "\n",
       "    .dataframe thead th {\n",
       "        text-align: right;\n",
       "    }\n",
       "</style>\n",
       "<table border=\"1\" class=\"dataframe\">\n",
       "  <thead>\n",
       "    <tr style=\"text-align: right;\">\n",
       "      <th></th>\n",
       "      <th>0</th>\n",
       "      <th>1</th>\n",
       "      <th>2</th>\n",
       "      <th>3</th>\n",
       "      <th>4</th>\n",
       "      <th>5</th>\n",
       "    </tr>\n",
       "  </thead>\n",
       "  <tbody>\n",
       "    <tr>\n",
       "      <th>261</th>\n",
       "      <td>24771</td>\n",
       "      <td>267.7</td>\n",
       "      <td>357.1</td>\n",
       "      <td>23.9</td>\n",
       "      <td>50.8</td>\n",
       "      <td>2.18</td>\n",
       "    </tr>\n",
       "    <tr>\n",
       "      <th>262</th>\n",
       "      <td>24782</td>\n",
       "      <td>273.0</td>\n",
       "      <td>364.0</td>\n",
       "      <td>23.9</td>\n",
       "      <td>50.8</td>\n",
       "      <td>2.17</td>\n",
       "    </tr>\n",
       "    <tr>\n",
       "      <th>263</th>\n",
       "      <td>24793</td>\n",
       "      <td>271.2</td>\n",
       "      <td>363.7</td>\n",
       "      <td>23.9</td>\n",
       "      <td>50.8</td>\n",
       "      <td>2.21</td>\n",
       "    </tr>\n",
       "    <tr>\n",
       "      <th>264</th>\n",
       "      <td>24804</td>\n",
       "      <td>274.0</td>\n",
       "      <td>360.4</td>\n",
       "      <td>23.9</td>\n",
       "      <td>50.8</td>\n",
       "      <td>2.16</td>\n",
       "    </tr>\n",
       "    <tr>\n",
       "      <th>265</th>\n",
       "      <td>24815</td>\n",
       "      <td>272.2</td>\n",
       "      <td>358.6</td>\n",
       "      <td>23.9</td>\n",
       "      <td>50.8</td>\n",
       "      <td>2.22</td>\n",
       "    </tr>\n",
       "  </tbody>\n",
       "</table>\n",
       "</div>"
      ],
      "text/plain": [
       "         0      1      2     3     4     5\n",
       "261  24771  267.7  357.1  23.9  50.8  2.18\n",
       "262  24782  273.0  364.0  23.9  50.8  2.17\n",
       "263  24793  271.2  363.7  23.9  50.8  2.21\n",
       "264  24804  274.0  360.4  23.9  50.8  2.16\n",
       "265  24815  272.2  358.6  23.9  50.8  2.22"
      ]
     },
     "execution_count": 78,
     "metadata": {},
     "output_type": "execute_result"
    }
   ],
   "source": [
    "dancer_track.tail()"
   ]
  },
  {
   "cell_type": "code",
   "execution_count": 79,
   "metadata": {},
   "outputs": [
    {
     "data": {
      "text/plain": [
       "(23212, 24815)"
      ]
     },
     "execution_count": 79,
     "metadata": {},
     "output_type": "execute_result"
    }
   ],
   "source": [
    "# start 10 frames before the data starts\n",
    "start_frame = int(dancer_track.iloc[0][0]) - 10\n",
    "end_frame = int(dancer_track.iloc[-1][0]) \n",
    "\n",
    "start_frame, end_frame"
   ]
  },
  {
   "cell_type": "code",
   "execution_count": 80,
   "metadata": {},
   "outputs": [
    {
     "data": {
      "text/html": [
       "<div>\n",
       "<style scoped>\n",
       "    .dataframe tbody tr th:only-of-type {\n",
       "        vertical-align: middle;\n",
       "    }\n",
       "\n",
       "    .dataframe tbody tr th {\n",
       "        vertical-align: top;\n",
       "    }\n",
       "\n",
       "    .dataframe thead th {\n",
       "        text-align: right;\n",
       "    }\n",
       "</style>\n",
       "<table border=\"1\" class=\"dataframe\">\n",
       "  <thead>\n",
       "    <tr style=\"text-align: right;\">\n",
       "      <th></th>\n",
       "      <th>0</th>\n",
       "      <th>1</th>\n",
       "    </tr>\n",
       "  </thead>\n",
       "  <tbody>\n",
       "    <tr>\n",
       "      <th>0</th>\n",
       "      <td>23306</td>\n",
       "      <td>23325</td>\n",
       "    </tr>\n",
       "    <tr>\n",
       "      <th>1</th>\n",
       "      <td>23468</td>\n",
       "      <td>23488</td>\n",
       "    </tr>\n",
       "    <tr>\n",
       "      <th>2</th>\n",
       "      <td>23640</td>\n",
       "      <td>23659</td>\n",
       "    </tr>\n",
       "    <tr>\n",
       "      <th>3</th>\n",
       "      <td>23794</td>\n",
       "      <td>23813</td>\n",
       "    </tr>\n",
       "    <tr>\n",
       "      <th>4</th>\n",
       "      <td>23947</td>\n",
       "      <td>23965</td>\n",
       "    </tr>\n",
       "  </tbody>\n",
       "</table>\n",
       "</div>"
      ],
      "text/plain": [
       "       0      1\n",
       "0  23306  23325\n",
       "1  23468  23488\n",
       "2  23640  23659\n",
       "3  23794  23813\n",
       "4  23947  23965"
      ]
     },
     "execution_count": 80,
     "metadata": {},
     "output_type": "execute_result"
    }
   ],
   "source": [
    "waggles.head() # wie sollen diese indizes jemals in die range kommen, in der die videos sind?"
   ]
  },
  {
   "cell_type": "code",
   "execution_count": 81,
   "metadata": {},
   "outputs": [],
   "source": [
    "waggle_ranges = waggles.values\n",
    "waggle_ranges = np.rint(waggle_ranges/10)"
   ]
  },
  {
   "cell_type": "code",
   "execution_count": 82,
   "metadata": {},
   "outputs": [],
   "source": [
    "waggle_ranges = waggles.values\n",
    "waggle_list = [i for array in waggle_ranges for i in range(int(array[0]),int(array[1]+1))]"
   ]
  },
  {
   "cell_type": "code",
   "execution_count": 83,
   "metadata": {},
   "outputs": [
    {
     "data": {
      "text/plain": [
       "[23306,\n",
       " 23307,\n",
       " 23308,\n",
       " 23309,\n",
       " 23310,\n",
       " 23311,\n",
       " 23312,\n",
       " 23313,\n",
       " 23314,\n",
       " 23315,\n",
       " 23316,\n",
       " 23317,\n",
       " 23318,\n",
       " 23319,\n",
       " 23320,\n",
       " 23321,\n",
       " 23322,\n",
       " 23323,\n",
       " 23324,\n",
       " 23325,\n",
       " 23468,\n",
       " 23469,\n",
       " 23470,\n",
       " 23471,\n",
       " 23472,\n",
       " 23473,\n",
       " 23474,\n",
       " 23475,\n",
       " 23476,\n",
       " 23477,\n",
       " 23478,\n",
       " 23479,\n",
       " 23480,\n",
       " 23481,\n",
       " 23482,\n",
       " 23483,\n",
       " 23484,\n",
       " 23485,\n",
       " 23486,\n",
       " 23487,\n",
       " 23488,\n",
       " 23640,\n",
       " 23641,\n",
       " 23642,\n",
       " 23643,\n",
       " 23644,\n",
       " 23645,\n",
       " 23646,\n",
       " 23647,\n",
       " 23648,\n",
       " 23649,\n",
       " 23650,\n",
       " 23651,\n",
       " 23652,\n",
       " 23653,\n",
       " 23654,\n",
       " 23655,\n",
       " 23656,\n",
       " 23657,\n",
       " 23658,\n",
       " 23659,\n",
       " 23794,\n",
       " 23795,\n",
       " 23796,\n",
       " 23797,\n",
       " 23798,\n",
       " 23799,\n",
       " 23800,\n",
       " 23801,\n",
       " 23802,\n",
       " 23803,\n",
       " 23804,\n",
       " 23805,\n",
       " 23806,\n",
       " 23807,\n",
       " 23808,\n",
       " 23809,\n",
       " 23810,\n",
       " 23811,\n",
       " 23812,\n",
       " 23813,\n",
       " 23947,\n",
       " 23948,\n",
       " 23949,\n",
       " 23950,\n",
       " 23951,\n",
       " 23952,\n",
       " 23953,\n",
       " 23954,\n",
       " 23955,\n",
       " 23956,\n",
       " 23957,\n",
       " 23958,\n",
       " 23959,\n",
       " 23960,\n",
       " 23961,\n",
       " 23962,\n",
       " 23963,\n",
       " 23964,\n",
       " 23965,\n",
       " 24081,\n",
       " 24082,\n",
       " 24083,\n",
       " 24084,\n",
       " 24085,\n",
       " 24086,\n",
       " 24087,\n",
       " 24088,\n",
       " 24089,\n",
       " 24090,\n",
       " 24091,\n",
       " 24092,\n",
       " 24093,\n",
       " 24094,\n",
       " 24095,\n",
       " 24096,\n",
       " 24097,\n",
       " 24098,\n",
       " 24099,\n",
       " 24215,\n",
       " 24216,\n",
       " 24217,\n",
       " 24218,\n",
       " 24219,\n",
       " 24220,\n",
       " 24221,\n",
       " 24222,\n",
       " 24223,\n",
       " 24224,\n",
       " 24225,\n",
       " 24226,\n",
       " 24227,\n",
       " 24228,\n",
       " 24229,\n",
       " 24230,\n",
       " 24231,\n",
       " 24232,\n",
       " 24233,\n",
       " 24234,\n",
       " 24349,\n",
       " 24350,\n",
       " 24351,\n",
       " 24352,\n",
       " 24353,\n",
       " 24354,\n",
       " 24355,\n",
       " 24356,\n",
       " 24357,\n",
       " 24358,\n",
       " 24359,\n",
       " 24360,\n",
       " 24361,\n",
       " 24362,\n",
       " 24363,\n",
       " 24364,\n",
       " 24365,\n",
       " 24366,\n",
       " 24367,\n",
       " 24368,\n",
       " 24369,\n",
       " 24484,\n",
       " 24485,\n",
       " 24486,\n",
       " 24487,\n",
       " 24488,\n",
       " 24489,\n",
       " 24490,\n",
       " 24491,\n",
       " 24492,\n",
       " 24493,\n",
       " 24494,\n",
       " 24495,\n",
       " 24496,\n",
       " 24497,\n",
       " 24498,\n",
       " 24499,\n",
       " 24500,\n",
       " 24501,\n",
       " 24502,\n",
       " 24503,\n",
       " 24618,\n",
       " 24619,\n",
       " 24620,\n",
       " 24621,\n",
       " 24622,\n",
       " 24623,\n",
       " 24624,\n",
       " 24625,\n",
       " 24626,\n",
       " 24627,\n",
       " 24628,\n",
       " 24629,\n",
       " 24630,\n",
       " 24631,\n",
       " 24632,\n",
       " 24633,\n",
       " 24634,\n",
       " 24635,\n",
       " 24636,\n",
       " 24637,\n",
       " 24638,\n",
       " 24753,\n",
       " 24754,\n",
       " 24755,\n",
       " 24756,\n",
       " 24757,\n",
       " 24758,\n",
       " 24759,\n",
       " 24760,\n",
       " 24761,\n",
       " 24762,\n",
       " 24763,\n",
       " 24764,\n",
       " 24765,\n",
       " 24766,\n",
       " 24767,\n",
       " 24768,\n",
       " 24769,\n",
       " 24770,\n",
       " 24771,\n",
       " 24772]"
      ]
     },
     "execution_count": 83,
     "metadata": {},
     "output_type": "execute_result"
    }
   ],
   "source": [
    "waggle_list"
   ]
  },
  {
   "cell_type": "markdown",
   "metadata": {},
   "source": [
    "### Plot"
   ]
  },
  {
   "cell_type": "code",
   "execution_count": 84,
   "metadata": {},
   "outputs": [],
   "source": [
    "import time # to display the video slower"
   ]
  },
  {
   "cell_type": "code",
   "execution_count": 85,
   "metadata": {},
   "outputs": [],
   "source": [
    "cap = cv2.VideoCapture(video_path)\n",
    "cap.set(1, start_frame)\n",
    "font = cv2.FONT_HERSHEY_SIMPLEX\n",
    "\n",
    "if (cap.isOpened()== False): \n",
    "    print(\"Error opening video stream or file\")\n",
    "    \n",
    "current_frame = start_frame\n",
    "df_index = 0\n",
    "while(cap.isOpened()):\n",
    "    \n",
    "    time.sleep(0.005)\n",
    "    ret, frame = cap.read()\n",
    "    \n",
    "    f = int(dancer_track.iloc[df_index][0])\n",
    "    #print(f, current_frame)\n",
    "    x = int(dancer_track.iloc[df_index][1])\n",
    "    y = int(dancer_track.iloc[df_index][2])\n",
    "    \n",
    "    cv2.putText(frame,'Frame='+str(current_frame),(400,100), font, 1,(255,255,255),2,cv2.LINE_AA)\n",
    "    \n",
    "    if f == current_frame: # only plot when data is available\n",
    "        \n",
    "        df_index += 1\n",
    "        \n",
    "        #waggle\n",
    "        if f in waggle_list:\n",
    "            cv2.circle(frame, (x,y), 10, (255,255,0),5) #yellow\n",
    "            cv2.putText(frame,'Waggle',(400,150), font, 1,(255,0,0),2,cv2.LINE_AA)\n",
    "        else:\n",
    "            cv2.circle(frame, (x,y), 10, (255,0,0),5) #blue\n",
    "            cv2.putText(frame,'Normal',(400,150), font, 1,(255,0,0),2,cv2.LINE_AA)\n",
    "    \n",
    "    \n",
    "    cv2.imshow('Frame', frame)\n",
    "    current_frame += 1\n",
    "\n",
    "    if cv2.waitKey(1) & 0xFF == ord('q'):\n",
    "        break\n",
    "        \n",
    "    #if we reach end of data, we end the display\n",
    "    if f == end_frame:\n",
    "        break\n",
    "        \n",
    "    \n",
    "\n",
    "cap.release()\n",
    "cv2.destroyAllWindows()"
   ]
  },
  {
   "cell_type": "code",
   "execution_count": null,
   "metadata": {},
   "outputs": [],
   "source": []
  }
 ],
 "metadata": {
  "kernelspec": {
   "display_name": "Python 3",
   "language": "python",
   "name": "python3"
  },
  "language_info": {
   "codemirror_mode": {
    "name": "ipython",
    "version": 3
   },
   "file_extension": ".py",
   "mimetype": "text/x-python",
   "name": "python",
   "nbconvert_exporter": "python",
   "pygments_lexer": "ipython3",
   "version": "3.6.7"
  }
 },
 "nbformat": 4,
 "nbformat_minor": 2
}
